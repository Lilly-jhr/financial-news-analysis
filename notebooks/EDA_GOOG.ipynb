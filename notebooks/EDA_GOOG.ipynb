{
 "cells": [
  {
   "cell_type": "code",
   "execution_count": 4,
   "metadata": {},
   "outputs": [],
   "source": [
    "import sys\n",
    "import os\n",
    "\n",
    "sys.path.append(os.path.abspath('../'))\n",
    "\n",
    "import pandas as pd\n",
    "\n",
    "from src.utils import *\n",
    "\n",
    "# Load the data\n",
    "goog_df = load_data('D:/Kifiya AI/financial-news-analysis/data/yfinance_data/GOOG_historical_data.csv')\n",
    "ratings_df = load_data('D:/Kifiya AI/financial-news-analysis/data/raw_analyst_ratings.csv')"
   ]
  },
  {
   "cell_type": "markdown",
   "metadata": {},
   "source": [
    "# Display the first few rows of Google's stock data"
   ]
  },
  {
   "cell_type": "code",
   "execution_count": 6,
   "metadata": {},
   "outputs": [
    {
     "name": "stdout",
     "output_type": "stream",
     "text": [
      "         Date      Open      High       Low     Close  Adj Close     Volume  \\\n",
      "0  2004-08-19  2.490664  2.591785  2.390042  2.499133   2.496292  897427216   \n",
      "1  2004-08-20  2.515820  2.716817  2.503118  2.697639   2.694573  458857488   \n",
      "2  2004-08-23  2.758411  2.826406  2.716070  2.724787   2.721690  366857939   \n",
      "3  2004-08-24  2.770615  2.779581  2.579581  2.611960   2.608991  306396159   \n",
      "4  2004-08-25  2.614201  2.689918  2.587302  2.640104   2.637103  184645512   \n",
      "\n",
      "   Dividends  Stock Splits  \n",
      "0        0.0           0.0  \n",
      "1        0.0           0.0  \n",
      "2        0.0           0.0  \n",
      "3        0.0           0.0  \n",
      "4        0.0           0.0  \n"
     ]
    }
   ],
   "source": [
    "print(goog_df.head())"
   ]
  },
  {
   "cell_type": "markdown",
   "metadata": {},
   "source": [
    "# Display the first few rows of the analyst ratings data"
   ]
  },
  {
   "cell_type": "code",
   "execution_count": 7,
   "metadata": {},
   "outputs": [
    {
     "name": "stdout",
     "output_type": "stream",
     "text": [
      "   Unnamed: 0                                           headline  \\\n",
      "0           0            Stocks That Hit 52-Week Highs On Friday   \n",
      "1           1         Stocks That Hit 52-Week Highs On Wednesday   \n",
      "2           2                      71 Biggest Movers From Friday   \n",
      "3           3       46 Stocks Moving In Friday's Mid-Day Session   \n",
      "4           4  B of A Securities Maintains Neutral on Agilent...   \n",
      "\n",
      "                                                 url          publisher  \\\n",
      "0  https://www.benzinga.com/news/20/06/16190091/s...  Benzinga Insights   \n",
      "1  https://www.benzinga.com/news/20/06/16170189/s...  Benzinga Insights   \n",
      "2  https://www.benzinga.com/news/20/05/16103463/7...         Lisa Levin   \n",
      "3  https://www.benzinga.com/news/20/05/16095921/4...         Lisa Levin   \n",
      "4  https://www.benzinga.com/news/20/05/16095304/b...         Vick Meyer   \n",
      "\n",
      "                        date stock  \n",
      "0  2020-06-05 10:30:54-04:00     A  \n",
      "1  2020-06-03 10:45:20-04:00     A  \n",
      "2  2020-05-26 04:30:07-04:00     A  \n",
      "3  2020-05-22 12:45:06-04:00     A  \n",
      "4  2020-05-22 11:38:59-04:00     A  \n"
     ]
    }
   ],
   "source": [
    "print(ratings_df.head())"
   ]
  },
  {
   "cell_type": "markdown",
   "metadata": {},
   "source": [
    "  ## Data Preprocessing\n",
    "# Convert the Date columns in both datasets to datetime format to enable time-series analysis"
   ]
  },
  {
   "cell_type": "code",
   "execution_count": 1,
   "metadata": {},
   "outputs": [
    {
     "ename": "NameError",
     "evalue": "name 'pd' is not defined",
     "output_type": "error",
     "traceback": [
      "\u001b[1;31m---------------------------------------------------------------------------\u001b[0m",
      "\u001b[1;31mNameError\u001b[0m                                 Traceback (most recent call last)",
      "Cell \u001b[1;32mIn[1], line 1\u001b[0m\n\u001b[1;32m----> 1\u001b[0m goog_df[\u001b[38;5;124m'\u001b[39m\u001b[38;5;124mDate\u001b[39m\u001b[38;5;124m'\u001b[39m] \u001b[38;5;241m=\u001b[39m \u001b[43mpd\u001b[49m\u001b[38;5;241m.\u001b[39mto_datetime(goog_df[\u001b[38;5;124m'\u001b[39m\u001b[38;5;124mDate\u001b[39m\u001b[38;5;124m'\u001b[39m])\n\u001b[0;32m      2\u001b[0m ratings_df[\u001b[38;5;124m'\u001b[39m\u001b[38;5;124mdate\u001b[39m\u001b[38;5;124m'\u001b[39m] \u001b[38;5;241m=\u001b[39m pd\u001b[38;5;241m.\u001b[39mto_datetime(ratings_df[\u001b[38;5;124m'\u001b[39m\u001b[38;5;124mdate\u001b[39m\u001b[38;5;124m'\u001b[39m], utc\u001b[38;5;241m=\u001b[39m\u001b[38;5;28;01mTrue\u001b[39;00m)\n",
      "\u001b[1;31mNameError\u001b[0m: name 'pd' is not defined"
     ]
    }
   ],
   "source": [
    "goog_df['Date'] = pd.to_datetime(goog_df['Date'])\n",
    "ratings_df['date'] = pd.to_datetime(ratings_df['date'], utc=True)"
   ]
  },
  {
   "cell_type": "code",
   "execution_count": null,
   "metadata": {},
   "outputs": [],
   "source": []
  },
  {
   "cell_type": "code",
   "execution_count": 14,
   "metadata": {},
   "outputs": [
    {
     "name": "stdout",
     "output_type": "stream",
     "text": [
      "        key_0  Unnamed: 0                                           headline  \\\n",
      "0  2020-06-10      568379  Facebook, Snap Analyst Projects Q2 Revenue Ups...   \n",
      "1  2020-06-10      568380  How Cannabis Company Cannaphyll Is Marketing O...   \n",
      "2  2020-06-10      568381  Twitter, Square Will Mark Juneteenth As Holida...   \n",
      "3  2020-06-09      568382             Price Over Earnings Overview: Alphabet   \n",
      "4  2020-06-09      568383  Google Maps To Offer Relevant Local COVID-19 I...   \n",
      "\n",
      "                                                 url          publisher  \\\n",
      "0  https://www.benzinga.com/analyst-ratings/analy...   Shanthi Rexaline   \n",
      "1  https://www.benzinga.com/markets/cannabis/20/0...        Jaycee Tenn   \n",
      "2  https://www.benzinga.com/news/20/06/16218441/t...  Shivdeep Dhaliwal   \n",
      "3  https://www.benzinga.com/intraday-update/20/06...  Benzinga Insights   \n",
      "4  https://www.benzinga.com/news/20/06/16208274/g...  Shivdeep Dhaliwal   \n",
      "\n",
      "                       date stock       Date       Open       High        Low  \\\n",
      "0 2020-06-10 19:25:13+00:00  GOOG 2020-06-10  72.976997  73.712952  72.813499   \n",
      "1 2020-06-10 17:18:50+00:00  GOOG 2020-06-10  72.976997  73.712952  72.813499   \n",
      "2 2020-06-10 04:28:00+00:00  GOOG 2020-06-10  72.976997  73.712952  72.813499   \n",
      "3 2020-06-09 18:39:26+00:00  GOOG 2020-06-09  72.267998  73.400002  72.160500   \n",
      "4 2020-06-09 07:51:41+00:00  GOOG 2020-06-09  72.267998  73.400002  72.160500   \n",
      "\n",
      "       Close  Adj Close    Volume  Dividends  Stock Splits  \n",
      "0  73.292503  73.209198  30504000        0.0           0.0  \n",
      "1  73.292503  73.209198  30504000        0.0           0.0  \n",
      "2  73.292503  73.209198  30504000        0.0           0.0  \n",
      "3  72.807999  72.725243  28184000        0.0           0.0  \n",
      "4  72.807999  72.725243  28184000        0.0           0.0  \n"
     ]
    }
   ],
   "source": [
    "# filter for google\n",
    "goog_ratings = ratings_df[ratings_df['stock'] == 'GOOG']\n",
    "\n",
    "# merge dataFrames\n",
    "merged_goog = pd.merge(goog_ratings, goog_df, left_on=goog_ratings['date'].dt.date, right_on=goog_df['Date'].dt.date, how='inner')\n",
    "\n",
    "print(merged_goog.head())"
   ]
  },
  {
   "cell_type": "code",
   "execution_count": null,
   "metadata": {},
   "outputs": [],
   "source": [
    "# Basic statistics for stock prices\n",
    "print(describe_data(goog_df))"
   ]
  }
 ],
 "metadata": {
  "kernelspec": {
   "display_name": "w1env",
   "language": "python",
   "name": "python3"
  },
  "language_info": {
   "codemirror_mode": {
    "name": "ipython",
    "version": 3
   },
   "file_extension": ".py",
   "mimetype": "text/x-python",
   "name": "python",
   "nbconvert_exporter": "python",
   "pygments_lexer": "ipython3",
   "version": "3.12.1"
  }
 },
 "nbformat": 4,
 "nbformat_minor": 2
}
